{
 "cells": [
  {
   "cell_type": "code",
   "execution_count": 1,
   "metadata": {},
   "outputs": [],
   "source": [
    "import pandas as pd\n",
    "import numpy as np\n",
    "from PIL import Image\n",
    "from sklearn.cluster import KMeans\n",
    "from tqdm import tqdm\n",
    "import plotly.express as px"
   ]
  },
  {
   "cell_type": "code",
   "execution_count": 5,
   "metadata": {},
   "outputs": [],
   "source": [
    "class ClusterImage:\n",
    "    def __init__(self, image_obj):\n",
    "        self.image_obj = image_obj\n",
    "        self.shape = np.shape(np.array(self.image_obj))\n",
    "        self.image_array = np.reshape(np.array(self.image_obj),(self.shape[0] * self.shape[1], self.shape[2]) )\n",
    "        self.clustered_image_array = self.image_array\n",
    "        self.cluster_image_obj = None\n",
    "\n",
    "    def get_clustered_image(self, clusters = 10, clustering_type = \"Kmeans\"):\n",
    "        match clustering_type:\n",
    "            case \"Kmeans\":\n",
    "                # st.write('kmeans')\n",
    "                # print('sad')\n",
    "                kmeans = KMeans(n_clusters=clusters, random_state=0, max_iter = 10, n_init=1).fit(self.image_array)\n",
    "                for i, pixel in enumerate(tqdm(self.image_array)):\n",
    "                    cluster = kmeans.labels_[i]\n",
    "                    # print('test')\n",
    "                    # print([int(samp) for samp in kmeans.cluster_centers_[cluster] ])\n",
    "                    self.clustered_image_array[i] = [int(samp) for samp in kmeans.cluster_centers_[cluster] ]\n",
    "        \n",
    "        \n",
    "        self.cluster_image_obj = Image.fromarray(np.reshape(self.clustered_image_array, self.shape))"
   ]
  },
  {
   "cell_type": "code",
   "execution_count": 7,
   "metadata": {},
   "outputs": [
    {
     "name": "stderr",
     "output_type": "stream",
     "text": [
      "100%|██████████| 264600/264600 [00:00<00:00, 375833.56it/s]\n"
     ]
    }
   ],
   "source": [
    "immy = Image.open(\"rainb.jpg\")\n",
    "imageClustered = ClusterImage(immy)\n",
    "\n",
    "immy.save(\"saved.png\")\n",
    "# print (imageClustered.image_array)\n",
    "\n",
    "imageClustered.get_clustered_image(10)\n",
    "\n",
    "imageClustered.cluster_image_obj.save(\"savedCluster.png\")"
   ]
  },
  {
   "cell_type": "code",
   "execution_count": null,
   "metadata": {},
   "outputs": [],
   "source": []
  }
 ],
 "metadata": {
  "interpreter": {
   "hash": "1364dec09ed300605e49b13387f2a32c9940d13c4b9b585018cdf4aa9d7e6ba9"
  },
  "kernelspec": {
   "display_name": "Python 3.10.0 ('new')",
   "language": "python",
   "name": "python3"
  },
  "language_info": {
   "codemirror_mode": {
    "name": "ipython",
    "version": 3
   },
   "file_extension": ".py",
   "mimetype": "text/x-python",
   "name": "python",
   "nbconvert_exporter": "python",
   "pygments_lexer": "ipython3",
   "version": "3.10.0"
  },
  "orig_nbformat": 4
 },
 "nbformat": 4,
 "nbformat_minor": 2
}
