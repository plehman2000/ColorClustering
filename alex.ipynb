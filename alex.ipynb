{
 "cells": [
  {
   "cell_type": "code",
   "execution_count": null,
   "metadata": {},
   "outputs": [],
   "source": [
    "class ClusterImage:\n",
    "    def __init__(self, image_obj):\n",
    "        self.image_obj = image_obj\n",
    "        self.shape = np.shape(np.array(self.image_obj))\n",
    "        self.image_array = np.reshape(np.array(self.image_obj),(self.shape[0] * self.shape[1], self.shape[2]) )\n",
    "        self.clustered_image_array = np.reshape(np.array(self.image_obj),(self.shape[0] * self.shape[1], self.shape[2]) )\n",
    "        self.cluster_image_obj = None\n",
    "\n",
    "    def get_clustered_image(self, clusters = 10, clustering_type = \"KMeans\"):\n",
    "        match clustering_type:\n",
    "            case \"Kmeans\":\n",
    "                st.write('kmeans')\n",
    "                kmeans = KMeans(n_clusters=clusters, random_state=0, max_iter = 10, n_init=1).fit(self.image_array)\n",
    "                for i, pixel in enumerate(stqdm(self.image_array)):\n",
    "                    cluster = kmeans.labels_[i]\n",
    "                    self.clustered_image_array[i] = [int(samp) for samp in kmeans.cluster_centers_[cluster] ]\n",
    "        \n",
    "        self.cluster_image_obj = Image.fromarray(np.reshape(self.clustered_image_array, self.shape))"
   ]
  }
 ],
 "metadata": {
  "language_info": {
   "name": "python"
  },
  "orig_nbformat": 4
 },
 "nbformat": 4,
 "nbformat_minor": 2
}
