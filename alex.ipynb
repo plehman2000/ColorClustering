{
 "cells": [
  {
   "cell_type": "code",
   "execution_count": 2,
   "metadata": {},
   "outputs": [],
   "source": [
    "import pandas as pd\n",
    "import numpy as np\n",
    "from PIL import Image\n",
    "from sklearn.cluster import KMeans\n",
    "from tqdm import tqdm\n",
    "import plotly.express as px\n",
    "import math"
   ]
  },
  {
   "cell_type": "code",
   "execution_count": 33,
   "metadata": {},
   "outputs": [],
   "source": [
    "from PIL import Image\n",
    "from stqdm import stqdm\n",
    "class ClusterImage:\n",
    "    def __init__(self, image_obj):\n",
    "        self.image_obj = image_obj\n",
    "        self.shape = np.shape(np.array(self.image_obj))\n",
    "        self.image_array = np.reshape(np.array(self.image_obj),(self.shape[0] * self.shape[1], self.shape[2]) )\n",
    "        self.clustered_image_array = np.reshape(np.array(self.image_obj),(self.shape[0] * self.shape[1], self.shape[2]) )\n",
    "        self.cluster_image_obj = None\n",
    "\n",
    "    def get_clustered_image(self, clusters = 10, clustering_type = \"KMeans\"):\n",
    "        match clustering_type:\n",
    "            case \"KMeans\":\n",
    "                # st.write('kmeans')\n",
    "                kmeans = KMeans(n_clusters=clusters, random_state=0, max_iter = 10, n_init=1).fit(self.image_array)\n",
    "                for i, pixel in enumerate(tqdm(self.image_array)):\n",
    "                    cluster = kmeans.labels_[i]\n",
    "                    self.clustered_image_array[i] = [int(samp) for samp in kmeans.cluster_centers_[cluster] ]\n",
    "        \n",
    "        self.cluster_image_obj = Image.fromarray(np.reshape(self.clustered_image_array, self.shape))\n",
    "\n",
    "    def graph_color_space(self, clustered_colors=False):\n",
    "        if clustered_colors:   \n",
    "            image_info = self.clustered_image_array\n",
    "            TITLE = \"Reduced Image Colorspace\"\n",
    "        else:\n",
    "            image_info = self.image_array\n",
    "            TITLE = \"Original Image Colorspace\"\n",
    "        colors = np.unique(image_info, axis=0)\n",
    "        color_names = []\n",
    "        for col in (colors):\n",
    "            color_names.append('Unknown Color')\n",
    "        data = list(map(list, zip(colors[:,0], colors[:,1],colors[:,2],color_names)))\n",
    "        new_df = pd.DataFrame(data,columns=['Red','Green','Blue', \"Name\"])\n",
    "        colfig = px.scatter_3d(new_df, x='Red', y='Green', z='Blue',\n",
    "                    color='Blue', title= TITLE)\n",
    "        return colfig\n",
    "        \n",
    "    \n",
    "    def dbscan_helper(self):\n",
    "        from sklearn.cluster import KMeans, DBSCAN, SpectralClustering\n",
    "        db = DBSCAN(eps=0.12, min_samples=1).fit(self.image_array)\n",
    "        labels = db.labels_\n",
    "        cluster_values = {}\n",
    "        for l in tqdm(labels, desc=\"Collecting clusters\"):\n",
    "            if l in cluster_values.keys():\n",
    "                np.append(cluster_values[l], self.image_array[l])\n",
    "                pass\n",
    "            else:\n",
    "                cluster_values[l] = [self.image_array[l]]\n",
    "\n",
    "        cluster_values_avg = {}\n",
    "        for l in tqdm(labels, desc=\"Averaging cluster members\"):\n",
    "            if l in cluster_values.keys():\n",
    "                # print(cluster_values[l])\n",
    "                cluster_values_avg[l] = np.mean(cluster_values[l], axis=0)\n",
    "\n",
    "        for i, label in enumerate(tqdm(labels,desc=\"Generating new image...\")):\n",
    "            self.clustered_image_array[i] = [int(samp) for samp in cluster_values_avg[label] ]"
   ]
  },
  {
   "cell_type": "code",
   "execution_count": 34,
   "metadata": {},
   "outputs": [],
   "source": [
    "immy = Image.open(\"rainb.jpg\")\n",
    "imageClustered = ClusterImage(immy)\n",
    "\n",
    "# immy.save(\"saved.png\")\n",
    "# # print (imageClustered.image_array)\n",
    "\n",
    "# imageClustered.get_clustered_image(10)\n",
    "\n",
    "# # imageClustered.cluster_image_obj.save(\"savedCluster.png\")\n",
    "# image_info = imageClustered.image_array"
   ]
  },
  {
   "cell_type": "code",
   "execution_count": 35,
   "metadata": {},
   "outputs": [
    {
     "data": {
      "application/vnd.jupyter.widget-view+json": {
       "model_id": "961787c5f3fd4920bcf61f08d4249cfa",
       "version_major": 2,
       "version_minor": 0
      },
      "text/plain": [
       "Collecting clusters:   0%|          | 0/264600 [00:00<?, ?it/s]"
      ]
     },
     "metadata": {},
     "output_type": "display_data"
    },
    {
     "ename": "TypeError",
     "evalue": "stqdm.display() got an unexpected keyword argument 'check_delay'",
     "output_type": "error",
     "traceback": [
      "\u001b[1;31m---------------------------------------------------------------------------\u001b[0m",
      "\u001b[1;31mTypeError\u001b[0m                                 Traceback (most recent call last)",
      "\u001b[1;32md:\\Code_Projects\\ColorClustering\\alex.ipynb Cell 4'\u001b[0m in \u001b[0;36m<cell line: 1>\u001b[1;34m()\u001b[0m\n\u001b[1;32m----> <a href='vscode-notebook-cell:/d%3A/Code_Projects/ColorClustering/alex.ipynb#ch0000020?line=0'>1</a>\u001b[0m imageClustered\u001b[39m.\u001b[39;49mdbscan_helper()\n",
      "\u001b[1;32md:\\Code_Projects\\ColorClustering\\alex.ipynb Cell 2'\u001b[0m in \u001b[0;36mClusterImage.dbscan_helper\u001b[1;34m(self)\u001b[0m\n\u001b[0;32m     <a href='vscode-notebook-cell:/d%3A/Code_Projects/ColorClustering/alex.ipynb#ch0000001?line=42'>43</a>\u001b[0m labels \u001b[39m=\u001b[39m db\u001b[39m.\u001b[39mlabels_\n\u001b[0;32m     <a href='vscode-notebook-cell:/d%3A/Code_Projects/ColorClustering/alex.ipynb#ch0000001?line=43'>44</a>\u001b[0m cluster_values \u001b[39m=\u001b[39m {}\n\u001b[1;32m---> <a href='vscode-notebook-cell:/d%3A/Code_Projects/ColorClustering/alex.ipynb#ch0000001?line=44'>45</a>\u001b[0m \u001b[39mfor\u001b[39;00m l \u001b[39min\u001b[39;00m stqdm(labels, desc\u001b[39m=\u001b[39;49m\u001b[39m\"\u001b[39;49m\u001b[39mCollecting clusters\u001b[39;49m\u001b[39m\"\u001b[39;49m):\n\u001b[0;32m     <a href='vscode-notebook-cell:/d%3A/Code_Projects/ColorClustering/alex.ipynb#ch0000001?line=45'>46</a>\u001b[0m     \u001b[39mif\u001b[39;00m l \u001b[39min\u001b[39;00m cluster_values\u001b[39m.\u001b[39mkeys():\n\u001b[0;32m     <a href='vscode-notebook-cell:/d%3A/Code_Projects/ColorClustering/alex.ipynb#ch0000001?line=46'>47</a>\u001b[0m         np\u001b[39m.\u001b[39mappend(cluster_values[l], \u001b[39mself\u001b[39m\u001b[39m.\u001b[39mimage_array[l])\n",
      "File \u001b[1;32mE:\\Applications\\Anaconda\\envs\\new\\lib\\site-packages\\stqdm\\stqdm.py:45\u001b[0m, in \u001b[0;36mstqdm.__init__\u001b[1;34m(self, iterable, desc, total, leave, file, ncols, mininterval, maxinterval, miniters, ascii, disable, unit, unit_scale, dynamic_ncols, smoothing, bar_format, initial, position, postfix, unit_divisor, write_bytes, lock_args, nrows, colour, gui, st_container, backend, frontend, **kwargs)\u001b[0m\n\u001b[0;32m     <a href='file:///e%3A/Applications/Anaconda/envs/new/lib/site-packages/stqdm/stqdm.py?line=42'>43</a>\u001b[0m \u001b[39mself\u001b[39m\u001b[39m.\u001b[39m_st_progress_bar \u001b[39m=\u001b[39m \u001b[39mNone\u001b[39;00m\n\u001b[0;32m     <a href='file:///e%3A/Applications/Anaconda/envs/new/lib/site-packages/stqdm/stqdm.py?line=43'>44</a>\u001b[0m \u001b[39mself\u001b[39m\u001b[39m.\u001b[39m_st_text \u001b[39m=\u001b[39m \u001b[39mNone\u001b[39;00m\n\u001b[1;32m---> <a href='file:///e%3A/Applications/Anaconda/envs/new/lib/site-packages/stqdm/stqdm.py?line=44'>45</a>\u001b[0m \u001b[39msuper\u001b[39m()\u001b[39m.\u001b[39m\u001b[39m__init__\u001b[39m(\n\u001b[0;32m     <a href='file:///e%3A/Applications/Anaconda/envs/new/lib/site-packages/stqdm/stqdm.py?line=45'>46</a>\u001b[0m     iterable\u001b[39m=\u001b[39miterable,\n\u001b[0;32m     <a href='file:///e%3A/Applications/Anaconda/envs/new/lib/site-packages/stqdm/stqdm.py?line=46'>47</a>\u001b[0m     desc\u001b[39m=\u001b[39mdesc,\n\u001b[0;32m     <a href='file:///e%3A/Applications/Anaconda/envs/new/lib/site-packages/stqdm/stqdm.py?line=47'>48</a>\u001b[0m     total\u001b[39m=\u001b[39mtotal,\n\u001b[0;32m     <a href='file:///e%3A/Applications/Anaconda/envs/new/lib/site-packages/stqdm/stqdm.py?line=48'>49</a>\u001b[0m     leave\u001b[39m=\u001b[39mleave,\n\u001b[0;32m     <a href='file:///e%3A/Applications/Anaconda/envs/new/lib/site-packages/stqdm/stqdm.py?line=49'>50</a>\u001b[0m     file\u001b[39m=\u001b[39mfile,\n\u001b[0;32m     <a href='file:///e%3A/Applications/Anaconda/envs/new/lib/site-packages/stqdm/stqdm.py?line=50'>51</a>\u001b[0m     ncols\u001b[39m=\u001b[39mncols,\n\u001b[0;32m     <a href='file:///e%3A/Applications/Anaconda/envs/new/lib/site-packages/stqdm/stqdm.py?line=51'>52</a>\u001b[0m     mininterval\u001b[39m=\u001b[39mmininterval,\n\u001b[0;32m     <a href='file:///e%3A/Applications/Anaconda/envs/new/lib/site-packages/stqdm/stqdm.py?line=52'>53</a>\u001b[0m     maxinterval\u001b[39m=\u001b[39mmaxinterval,\n\u001b[0;32m     <a href='file:///e%3A/Applications/Anaconda/envs/new/lib/site-packages/stqdm/stqdm.py?line=53'>54</a>\u001b[0m     miniters\u001b[39m=\u001b[39mminiters,\n\u001b[0;32m     <a href='file:///e%3A/Applications/Anaconda/envs/new/lib/site-packages/stqdm/stqdm.py?line=54'>55</a>\u001b[0m     ascii\u001b[39m=\u001b[39mascii,\n\u001b[0;32m     <a href='file:///e%3A/Applications/Anaconda/envs/new/lib/site-packages/stqdm/stqdm.py?line=55'>56</a>\u001b[0m     disable\u001b[39m=\u001b[39mdisable,\n\u001b[0;32m     <a href='file:///e%3A/Applications/Anaconda/envs/new/lib/site-packages/stqdm/stqdm.py?line=56'>57</a>\u001b[0m     unit\u001b[39m=\u001b[39munit,\n\u001b[0;32m     <a href='file:///e%3A/Applications/Anaconda/envs/new/lib/site-packages/stqdm/stqdm.py?line=57'>58</a>\u001b[0m     unit_scale\u001b[39m=\u001b[39munit_scale,\n\u001b[0;32m     <a href='file:///e%3A/Applications/Anaconda/envs/new/lib/site-packages/stqdm/stqdm.py?line=58'>59</a>\u001b[0m     dynamic_ncols\u001b[39m=\u001b[39mdynamic_ncols,\n\u001b[0;32m     <a href='file:///e%3A/Applications/Anaconda/envs/new/lib/site-packages/stqdm/stqdm.py?line=59'>60</a>\u001b[0m     smoothing\u001b[39m=\u001b[39msmoothing,\n\u001b[0;32m     <a href='file:///e%3A/Applications/Anaconda/envs/new/lib/site-packages/stqdm/stqdm.py?line=60'>61</a>\u001b[0m     bar_format\u001b[39m=\u001b[39mbar_format,\n\u001b[0;32m     <a href='file:///e%3A/Applications/Anaconda/envs/new/lib/site-packages/stqdm/stqdm.py?line=61'>62</a>\u001b[0m     initial\u001b[39m=\u001b[39minitial,\n\u001b[0;32m     <a href='file:///e%3A/Applications/Anaconda/envs/new/lib/site-packages/stqdm/stqdm.py?line=62'>63</a>\u001b[0m     position\u001b[39m=\u001b[39mposition,\n\u001b[0;32m     <a href='file:///e%3A/Applications/Anaconda/envs/new/lib/site-packages/stqdm/stqdm.py?line=63'>64</a>\u001b[0m     postfix\u001b[39m=\u001b[39mpostfix,\n\u001b[0;32m     <a href='file:///e%3A/Applications/Anaconda/envs/new/lib/site-packages/stqdm/stqdm.py?line=64'>65</a>\u001b[0m     unit_divisor\u001b[39m=\u001b[39munit_divisor,\n\u001b[0;32m     <a href='file:///e%3A/Applications/Anaconda/envs/new/lib/site-packages/stqdm/stqdm.py?line=65'>66</a>\u001b[0m     write_bytes\u001b[39m=\u001b[39mwrite_bytes,\n\u001b[0;32m     <a href='file:///e%3A/Applications/Anaconda/envs/new/lib/site-packages/stqdm/stqdm.py?line=66'>67</a>\u001b[0m     lock_args\u001b[39m=\u001b[39mlock_args,\n\u001b[0;32m     <a href='file:///e%3A/Applications/Anaconda/envs/new/lib/site-packages/stqdm/stqdm.py?line=67'>68</a>\u001b[0m     nrows\u001b[39m=\u001b[39mnrows,\n\u001b[0;32m     <a href='file:///e%3A/Applications/Anaconda/envs/new/lib/site-packages/stqdm/stqdm.py?line=68'>69</a>\u001b[0m     colour\u001b[39m=\u001b[39mcolour,\n\u001b[0;32m     <a href='file:///e%3A/Applications/Anaconda/envs/new/lib/site-packages/stqdm/stqdm.py?line=69'>70</a>\u001b[0m     gui\u001b[39m=\u001b[39mgui,\n\u001b[0;32m     <a href='file:///e%3A/Applications/Anaconda/envs/new/lib/site-packages/stqdm/stqdm.py?line=70'>71</a>\u001b[0m     \u001b[39m*\u001b[39m\u001b[39m*\u001b[39mkwargs,\n\u001b[0;32m     <a href='file:///e%3A/Applications/Anaconda/envs/new/lib/site-packages/stqdm/stqdm.py?line=71'>72</a>\u001b[0m )\n",
      "File \u001b[1;32mE:\\Applications\\Anaconda\\envs\\new\\lib\\site-packages\\tqdm\\notebook.py:253\u001b[0m, in \u001b[0;36mtqdm_notebook.__init__\u001b[1;34m(self, *args, **kwargs)\u001b[0m\n\u001b[0;32m    <a href='file:///e%3A/Applications/Anaconda/envs/new/lib/site-packages/tqdm/notebook.py?line=250'>251</a>\u001b[0m \u001b[39m# Print initial bar state\u001b[39;00m\n\u001b[0;32m    <a href='file:///e%3A/Applications/Anaconda/envs/new/lib/site-packages/tqdm/notebook.py?line=251'>252</a>\u001b[0m \u001b[39mif\u001b[39;00m \u001b[39mnot\u001b[39;00m \u001b[39mself\u001b[39m\u001b[39m.\u001b[39mdisable:\n\u001b[1;32m--> <a href='file:///e%3A/Applications/Anaconda/envs/new/lib/site-packages/tqdm/notebook.py?line=252'>253</a>\u001b[0m     \u001b[39mself\u001b[39;49m\u001b[39m.\u001b[39;49mdisplay(check_delay\u001b[39m=\u001b[39;49m\u001b[39mFalse\u001b[39;49;00m)\n",
      "\u001b[1;31mTypeError\u001b[0m: stqdm.display() got an unexpected keyword argument 'check_delay'"
     ]
    }
   ],
   "source": [
    "imageClustered.dbscan_helper()"
   ]
  },
  {
   "cell_type": "code",
   "execution_count": 5,
   "metadata": {},
   "outputs": [],
   "source": [
    "from sklearn.cluster import KMeans, DBSCAN, SpectralClustering\n",
    "\n",
    "db = DBSCAN(eps=0.12, min_samples=1).fit(image_info)\n",
    "labels = db.labels_"
   ]
  },
  {
   "cell_type": "code",
   "execution_count": 26,
   "metadata": {},
   "outputs": [
    {
     "name": "stderr",
     "output_type": "stream",
     "text": [
      "Collecting clusters: 100%|██████████| 264600/264600 [00:02<00:00, 125610.74it/s]\n",
      "Averaging cluster members: 100%|██████████| 264600/264600 [00:06<00:00, 43101.48it/s]\n"
     ]
    }
   ],
   "source": [
    "cluster_values = {}\n",
    "for l in tqdm(labels, desc=\"Collecting clusters\"):\n",
    "    if l in cluster_values.keys():\n",
    "        np.append(cluster_values[l], image_info[l])\n",
    "        pass\n",
    "    else:\n",
    "        cluster_values[l] = [image_info[l]]\n",
    "\n",
    "cluster_values_avg = {}\n",
    "for l in tqdm(labels, desc=\"Averaging cluster members\"):\n",
    "    if l in cluster_values.keys():\n",
    "        # print(cluster_values[l])\n",
    "        cluster_values_avg[l] = np.mean(cluster_values[l], axis=0)\n"
   ]
  },
  {
   "cell_type": "code",
   "execution_count": 9,
   "metadata": {},
   "outputs": [],
   "source": [
    "from tqdm import tqdm"
   ]
  },
  {
   "cell_type": "code",
   "execution_count": 21,
   "metadata": {},
   "outputs": [
    {
     "data": {
      "text/plain": [
       "[array([255,  92,  30], dtype=uint8)]"
      ]
     },
     "execution_count": 21,
     "metadata": {},
     "output_type": "execute_result"
    }
   ],
   "source": [
    "cluster_values[0]"
   ]
  },
  {
   "cell_type": "code",
   "execution_count": 23,
   "metadata": {},
   "outputs": [
    {
     "name": "stderr",
     "output_type": "stream",
     "text": [
      "100%|██████████| 264600/264600 [00:06<00:00, 41016.55it/s]\n"
     ]
    }
   ],
   "source": []
  },
  {
   "cell_type": "code",
   "execution_count": 24,
   "metadata": {},
   "outputs": [
    {
     "data": {
      "text/plain": [
       "11573"
      ]
     },
     "execution_count": 24,
     "metadata": {},
     "output_type": "execute_result"
    }
   ],
   "source": []
  },
  {
   "cell_type": "code",
   "execution_count": 26,
   "metadata": {},
   "outputs": [],
   "source": [
    "labset = set()\n",
    "\n",
    "for lab in labels:\n",
    "    labset.add(lab)"
   ]
  },
  {
   "cell_type": "code",
   "execution_count": 27,
   "metadata": {},
   "outputs": [
    {
     "data": {
      "text/plain": [
       "11573"
      ]
     },
     "execution_count": 27,
     "metadata": {},
     "output_type": "execute_result"
    }
   ],
   "source": [
    "len(labset)"
   ]
  },
  {
   "cell_type": "code",
   "execution_count": 19,
   "metadata": {},
   "outputs": [
    {
     "data": {
      "text/plain": [
       "264600"
      ]
     },
     "execution_count": 19,
     "metadata": {},
     "output_type": "execute_result"
    }
   ],
   "source": [
    "len(image_info)"
   ]
  },
  {
   "cell_type": "code",
   "execution_count": 10,
   "metadata": {},
   "outputs": [
    {
     "data": {
      "text/plain": [
       "array([    0,     1,     1, ..., 11571, 11341, 11572], dtype=int64)"
      ]
     },
     "execution_count": 10,
     "metadata": {},
     "output_type": "execute_result"
    }
   ],
   "source": [
    "labels"
   ]
  },
  {
   "cell_type": "code",
   "execution_count": 6,
   "metadata": {},
   "outputs": [
    {
     "ename": "IndexError",
     "evalue": "invalid index to scalar variable.",
     "output_type": "error",
     "traceback": [
      "\u001b[1;31m---------------------------------------------------------------------------\u001b[0m",
      "\u001b[1;31mIndexError\u001b[0m                                Traceback (most recent call last)",
      "\u001b[1;32md:\\Code_Projects\\ColorClustering\\alex.ipynb Cell 6'\u001b[0m in \u001b[0;36m<cell line: 1>\u001b[1;34m()\u001b[0m\n\u001b[0;32m      <a href='vscode-notebook-cell:/d%3A/Code_Projects/ColorClustering/alex.ipynb#ch0000005?line=0'>1</a>\u001b[0m \u001b[39mfor\u001b[39;00m i \u001b[39min\u001b[39;00m \u001b[39mrange\u001b[39m(\u001b[39m0\u001b[39m, \u001b[39mlen\u001b[39m(pixels)):\n\u001b[0;32m      <a href='vscode-notebook-cell:/d%3A/Code_Projects/ColorClustering/alex.ipynb#ch0000005?line=1'>2</a>\u001b[0m     \u001b[39mfor\u001b[39;00m j \u001b[39min\u001b[39;00m \u001b[39mrange\u001b[39m(\u001b[39m0\u001b[39m, \u001b[39mlen\u001b[39m(pixels[\u001b[39m0\u001b[39m])):\n\u001b[1;32m----> <a href='vscode-notebook-cell:/d%3A/Code_Projects/ColorClustering/alex.ipynb#ch0000005?line=2'>3</a>\u001b[0m         red \u001b[39m=\u001b[39m pixels[i][j][\u001b[39m0\u001b[39;49m]\n\u001b[0;32m      <a href='vscode-notebook-cell:/d%3A/Code_Projects/ColorClustering/alex.ipynb#ch0000005?line=3'>4</a>\u001b[0m         green \u001b[39m=\u001b[39m pixels[i][j][\u001b[39m1\u001b[39m]\n\u001b[0;32m      <a href='vscode-notebook-cell:/d%3A/Code_Projects/ColorClustering/alex.ipynb#ch0000005?line=4'>5</a>\u001b[0m         blue \u001b[39m=\u001b[39m pixels[i][j][\u001b[39m2\u001b[39m]\n",
      "\u001b[1;31mIndexError\u001b[0m: invalid index to scalar variable."
     ]
    }
   ],
   "source": [
    "for i in range(0, len(pixels)):\n",
    "    for j in range(0, len(pixels[0])):\n",
    "        red = pixels[i][j][0]\n",
    "        green = pixels[i][j][1]\n",
    "        blue = pixels[i][j][2]\n",
    "\n",
    "        print (j, \", \", i, \": \" \"R: \", red, \" G: \", green, \" B: \", blue)\n",
    "        break\n",
    "    break\n",
    "\n",
    "# print(shape[0])\n",
    "\n",
    "\n",
    "class Image:\n",
    "    def __init__(self):\n",
    "        self.clusterCount = 0\n",
    "        self.U = 0  # total neighbors required\n",
    "        self.W = 0  # width\n",
    "        self.H = 0  # height\n",
    "        self.pixelList = []  # All Pixels in Image\n",
    "        self.pixelCluster = []  # All Clusters of Pixels\n",
    "\n",
    "    def __init__(self, pixels):\n",
    "        self.W = len(pixels[0])\n",
    "        self.H = len(pixels)\n",
    "        self.pixelList = []\n",
    "        self.pixelCluster = []\n",
    "        for i in range(0, len(pixels)):\n",
    "            for j in range(0, len(pixels[0])):\n",
    "                pair = [i, j]\n",
    "                self.pixelList.append(Pixel(pixels[i][j], pair))\n",
    "        self.clusterCount = 0\n",
    "\n",
    "    def Distance(self, pointOne, pointTwo):  # Distance between points in 3D space\n",
    "        tempVar = ((int(pointOne[0]) - int(pointTwo[0])) ** 2) + ((int(pointOne[1]) - int(pointTwo[1])) ** 2) + ((int(pointOne[2]) - int(pointTwo[2])) ** 2)\n",
    "        d = math.sqrt(tempVar)\n",
    "        return d\n",
    "\n",
    "    def GetNeighbors(self, maxDist, curPixel):  # Sets Pixel's Neighbors below maxDist away in 3D space\n",
    "        neighbors = []\n",
    "        for i in range(0, len(self.pixelList)):\n",
    "            if self.Distance(self.pixelList[i].returnRGB(), curPixel.returnRGB()) <= maxDist:\n",
    "                if self.pixelList[i].returnCoord() != curPixel.returnCoord():\n",
    "                    neighbors.append(self.pixelList[i])\n",
    "        curPixel.setNeighbors(neighbors)\n",
    "\n",
    "    def setCluster(self, U, curPixel, cluster):  # Begins new cluster (U is lowest number of pixels to be considered primary pixel)\n",
    "        if (curPixel.returnNodeType() == 'n'):\n",
    "            # curPixel.setCluster(cluster)\n",
    "            ##Remove Pixel from Current image pixel list to shorten search time\n",
    "            #print(curPixel.returnCoord())\n",
    "            #print(curPixel.returnCoord()[0] * self.W + curPixel.returnCoord()[1])\n",
    "            CurIndex = curPixel.returnCoord()[0] * self.W + curPixel.returnCoord()[1]\n",
    "\n",
    "            self.pixelList.pop(CurIndex)\n",
    "\n",
    "            # self.pixelList.remove(curPixel)\n",
    "            if (curPixel.returnNeighborSize() > U):\n",
    "                curPixel.setNodeType('p')\n",
    "\n",
    "                tempNeighbors = curPixel.getNeighbors()\n",
    "                for i in range(0, len(tempNeighbors)):\n",
    "                    #self.GetNeighbors(4, tempNeighbors[i])\n",
    "                    self.setCluster(U, tempNeighbors[i], cluster)\n",
    "            else:\n",
    "                curPixel.setNodeType('s')\n",
    "\n",
    "    # def percentOfPixels Catagorized (if less than 90% make more random primary nodes)\n",
    "    # def catagoryColor returns average color of that catagories pixel count (sum(r)/catagoryPixelCount, sum(g)/cPC, sum(b)/cPC)\n",
    "    # when creating pixel, would it be faster to gen neighbors before or during catagorizing? prolly during (recursive)\n",
    "\n",
    "# Distance(pointOne, pointTwo)\n",
    "\n",
    "# We want user defined max distance (md stores furthest value from primary node to be converted to primary)\n",
    "# and user defined sample nodes (if sn = 4, it needs to touch four pixels to be counted as a cluster node)\n",
    "# class pixel (stores RGB value, stores which cluster, number of neighbors, if inserted as a primary node, secondary node, or not added)\n",
    "# A way to handle outliers\n",
    "\n",
    "# def findNeighbors()\n",
    "\n",
    "\n",
    "\n",
    "\n",
    "curPixelTest = [255,112,34]\n",
    "#totalNeighbor = findNeighborNum(pixels, curPixelTest, 0.5)\n",
    "#print (\"Count: \", totalNeighbor)\n",
    "\n",
    "pixelList = []\n",
    "\n",
    "for i in range(0, len(pixels)):\n",
    "    for j in range(0, len(pixels[0])):\n",
    "        pair = [i,j]\n",
    "        pixelList.append(Pixel(pixels[i][j], pair))\n",
    "\n",
    "#print(len(pixelList))\n",
    "MyImg = Image(pixels)\n",
    "testPixel = Pixel(pixels[0][0], [0,0])\n",
    "MyImg.GetNeighbors(4, testPixel)\n",
    "print(testPixel.returnNeighborSize())\n",
    "\n",
    "testNeighbors = []\n",
    "testNeighbors = testPixel.getNeighbors()\n",
    "print(\"Test Pixel: \")\n",
    "print(testPixel.returnRGB()[0], \" \", testPixel.returnRGB()[1], \" \", testPixel.returnRGB()[2])\n",
    "print(\"_____________\")\n",
    "#for i in range(0, len(testNeighbors)): WORKS\n",
    "    #print(testNeighbors[i].returnCoord()[0], \" \", testNeighbors[i].returnCoord()[1], \": \", testNeighbors[i].returnRGB()[0], \" \", testNeighbors[i].returnRGB()[1], \" \", testNeighbors[i].returnRGB()[2])\n",
    "\n",
    "\n",
    "\n",
    "\n",
    "\n",
    "U = 20\n",
    "curCluster = 1\n",
    "#print(len(MyImg.pixelList))\n",
    "MyImg.setCluster(20, testPixel, 1)\n",
    "print(\"Done\")\n",
    "#print(len(MyImg.pixelList))\n",
    "#implement random sampling and if not within a cluster make a new cluster unless it has no neighbors (outlier)\n"
   ]
  },
  {
   "cell_type": "code",
   "execution_count": null,
   "metadata": {},
   "outputs": [],
   "source": []
  }
 ],
 "metadata": {
  "interpreter": {
   "hash": "1364dec09ed300605e49b13387f2a32c9940d13c4b9b585018cdf4aa9d7e6ba9"
  },
  "kernelspec": {
   "display_name": "Python 3.10.0 ('new')",
   "language": "python",
   "name": "python3"
  },
  "language_info": {
   "codemirror_mode": {
    "name": "ipython",
    "version": 3
   },
   "file_extension": ".py",
   "mimetype": "text/x-python",
   "name": "python",
   "nbconvert_exporter": "python",
   "pygments_lexer": "ipython3",
   "version": "3.10.0"
  },
  "orig_nbformat": 4
 },
 "nbformat": 4,
 "nbformat_minor": 2
}
