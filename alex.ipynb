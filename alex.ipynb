{
 "cells": [
  {
   "cell_type": "code",
   "execution_count": 10,
   "metadata": {},
   "outputs": [],
   "source": [
    "import pandas as pd\n",
    "import numpy as np\n",
    "from PIL import Image\n",
    "from sklearn.cluster import KMeans\n",
    "from tqdm import tqdm\n",
    "import plotly.express as px"
   ]
  },
  {
   "cell_type": "code",
   "execution_count": 24,
   "metadata": {},
   "outputs": [],
   "source": [
    "class ClusterImage:\n",
    "    def __init__(self, image_obj):\n",
    "        self.image_obj = image_obj\n",
    "        self.shape = np.shape(np.array(self.image_obj))\n",
    "        self.image_array = np.reshape(np.array(self.image_obj),(self.shape[0] * self.shape[1], self.shape[2]) )\n",
    "        self.clustered_image_array = []\n",
    "        self.cluster_image_obj = None\n",
    "\n",
    "    def get_clustered_image(self, clusters = 10, clustering_type = \"KMeans\"):\n",
    "        match clustering_type:\n",
    "            case \"Kmeans\":\n",
    "                kmeans = KMeans(n_clusters=clusters, random_state=0, max_iter = 10, n_init=1).fit(self.image_array)\n",
    "                for i, pixel in enumerate(tqdm(self.image_array)):\n",
    "                    cluster = kmeans.labels_[i]\n",
    "                    self.clustered_image_array.append([int(samp) for samp in kmeans.cluster_centers_[cluster] ])\n",
    "        \n",
    "        self.cluster_image_obj = Image.fromarray(np.reshape(self.clustered_image_array, self.shape))"
   ]
  },
  {
   "cell_type": "code",
   "execution_count": 25,
   "metadata": {},
   "outputs": [
    {
     "name": "stdout",
     "output_type": "stream",
     "text": [
      "[[  3   3   3]\n",
      " [  3   3   3]\n",
      " [  3   3   3]\n",
      " ...\n",
      " [228 228 226]\n",
      " [228 228 226]\n",
      " [228 228 226]]\n"
     ]
    },
    {
     "ename": "ValueError",
     "evalue": "cannot reshape array of size 0 into shape (1691,2484,3)",
     "output_type": "error",
     "traceback": [
      "\u001b[1;31m---------------------------------------------------------------------------\u001b[0m",
      "\u001b[1;31mValueError\u001b[0m                                Traceback (most recent call last)",
      "\u001b[1;32mc:\\Users\\Alessandro\\Documents\\GitHub\\ColorClustering\\alex.ipynb Cell 3'\u001b[0m in \u001b[0;36m<cell line: 7>\u001b[1;34m()\u001b[0m\n\u001b[0;32m      <a href='vscode-notebook-cell:/c%3A/Users/Alessandro/Documents/GitHub/ColorClustering/alex.ipynb#ch0000007?line=3'>4</a>\u001b[0m immy\u001b[39m.\u001b[39msave(\u001b[39m\"\u001b[39m\u001b[39msaved.png\u001b[39m\u001b[39m\"\u001b[39m)\n\u001b[0;32m      <a href='vscode-notebook-cell:/c%3A/Users/Alessandro/Documents/GitHub/ColorClustering/alex.ipynb#ch0000007?line=4'>5</a>\u001b[0m \u001b[39mprint\u001b[39m (imageClustered\u001b[39m.\u001b[39mimage_array)\n\u001b[1;32m----> <a href='vscode-notebook-cell:/c%3A/Users/Alessandro/Documents/GitHub/ColorClustering/alex.ipynb#ch0000007?line=6'>7</a>\u001b[0m imageClustered\u001b[39m.\u001b[39;49mget_clustered_image()\n\u001b[0;32m      <a href='vscode-notebook-cell:/c%3A/Users/Alessandro/Documents/GitHub/ColorClustering/alex.ipynb#ch0000007?line=7'>8</a>\u001b[0m imageClustered\u001b[39m.\u001b[39mcluster_image_obj\u001b[39m.\u001b[39msave(\u001b[39m\"\u001b[39m\u001b[39msavedCluster.png\u001b[39m\u001b[39m\"\u001b[39m)\n",
      "\u001b[1;32mc:\\Users\\Alessandro\\Documents\\GitHub\\ColorClustering\\alex.ipynb Cell 2'\u001b[0m in \u001b[0;36mClusterImage.get_clustered_image\u001b[1;34m(self, clusters, clustering_type)\u001b[0m\n\u001b[0;32m      <a href='vscode-notebook-cell:/c%3A/Users/Alessandro/Documents/GitHub/ColorClustering/alex.ipynb#ch0000000?line=8'>9</a>\u001b[0m \u001b[39mdef\u001b[39;00m \u001b[39mget_clustered_image\u001b[39m(\u001b[39mself\u001b[39m, clusters \u001b[39m=\u001b[39m \u001b[39m10\u001b[39m, clustering_type \u001b[39m=\u001b[39m \u001b[39m\"\u001b[39m\u001b[39mKMeans\u001b[39m\u001b[39m\"\u001b[39m):\n\u001b[0;32m     <a href='vscode-notebook-cell:/c%3A/Users/Alessandro/Documents/GitHub/ColorClustering/alex.ipynb#ch0000000?line=9'>10</a>\u001b[0m     \u001b[39mmatch\u001b[39;00m clustering_type:\n\u001b[0;32m     <a href='vscode-notebook-cell:/c%3A/Users/Alessandro/Documents/GitHub/ColorClustering/alex.ipynb#ch0000000?line=10'>11</a>\u001b[0m         \u001b[39mcase\u001b[39;00m \u001b[39m\"\u001b[39m\u001b[39mKmeans\u001b[39m\u001b[39m\"\u001b[39m:\n\u001b[0;32m     <a href='vscode-notebook-cell:/c%3A/Users/Alessandro/Documents/GitHub/ColorClustering/alex.ipynb#ch0000000?line=11'>12</a>\u001b[0m             kmeans \u001b[39m=\u001b[39m KMeans(n_clusters\u001b[39m=\u001b[39mclusters, random_state\u001b[39m=\u001b[39m\u001b[39m0\u001b[39m, max_iter \u001b[39m=\u001b[39m \u001b[39m10\u001b[39m, n_init\u001b[39m=\u001b[39m\u001b[39m1\u001b[39m)\u001b[39m.\u001b[39mfit(\u001b[39mself\u001b[39m\u001b[39m.\u001b[39mimage_array)\n\u001b[0;32m     <a href='vscode-notebook-cell:/c%3A/Users/Alessandro/Documents/GitHub/ColorClustering/alex.ipynb#ch0000000?line=12'>13</a>\u001b[0m             \u001b[39mfor\u001b[39;00m i, pixel \u001b[39min\u001b[39;00m \u001b[39menumerate\u001b[39m(tqdm(\u001b[39mself\u001b[39m\u001b[39m.\u001b[39mimage_array)):\n\u001b[0;32m     <a href='vscode-notebook-cell:/c%3A/Users/Alessandro/Documents/GitHub/ColorClustering/alex.ipynb#ch0000000?line=13'>14</a>\u001b[0m                 cluster \u001b[39m=\u001b[39m kmeans\u001b[39m.\u001b[39mlabels_[i]\n\u001b[0;32m     <a href='vscode-notebook-cell:/c%3A/Users/Alessandro/Documents/GitHub/ColorClustering/alex.ipynb#ch0000000?line=14'>15</a>\u001b[0m                 \u001b[39mself\u001b[39m\u001b[39m.\u001b[39mclustered_image_array\u001b[39m.\u001b[39mappend([\u001b[39mint\u001b[39m(samp) \u001b[39mfor\u001b[39;00m samp \u001b[39min\u001b[39;00m kmeans\u001b[39m.\u001b[39mcluster_centers_[cluster] ])\n\u001b[1;32m---> <a href='vscode-notebook-cell:/c%3A/Users/Alessandro/Documents/GitHub/ColorClustering/alex.ipynb#ch0000000?line=16'>17</a>\u001b[0m     \u001b[39mself\u001b[39m\u001b[39m.\u001b[39mcluster_image_obj \u001b[39m=\u001b[39m Image\u001b[39m.\u001b[39mfromarray(np\u001b[39m.\u001b[39;49mreshape(\u001b[39mself\u001b[39;49m\u001b[39m.\u001b[39;49mclustered_image_array, \u001b[39mself\u001b[39;49m\u001b[39m.\u001b[39;49mshape))\n",
      "File \u001b[1;32m<__array_function__ internals>:180\u001b[0m, in \u001b[0;36mreshape\u001b[1;34m(*args, **kwargs)\u001b[0m\n",
      "File \u001b[1;32m~\\miniconda3\\envs\\new\\lib\\site-packages\\numpy\\core\\fromnumeric.py:298\u001b[0m, in \u001b[0;36mreshape\u001b[1;34m(a, newshape, order)\u001b[0m\n\u001b[0;32m    <a href='file:///c%3A/Users/Alessandro/miniconda3/envs/new/lib/site-packages/numpy/core/fromnumeric.py?line=197'>198</a>\u001b[0m \u001b[39m@array_function_dispatch\u001b[39m(_reshape_dispatcher)\n\u001b[0;32m    <a href='file:///c%3A/Users/Alessandro/miniconda3/envs/new/lib/site-packages/numpy/core/fromnumeric.py?line=198'>199</a>\u001b[0m \u001b[39mdef\u001b[39;00m \u001b[39mreshape\u001b[39m(a, newshape, order\u001b[39m=\u001b[39m\u001b[39m'\u001b[39m\u001b[39mC\u001b[39m\u001b[39m'\u001b[39m):\n\u001b[0;32m    <a href='file:///c%3A/Users/Alessandro/miniconda3/envs/new/lib/site-packages/numpy/core/fromnumeric.py?line=199'>200</a>\u001b[0m     \u001b[39m\"\"\"\u001b[39;00m\n\u001b[0;32m    <a href='file:///c%3A/Users/Alessandro/miniconda3/envs/new/lib/site-packages/numpy/core/fromnumeric.py?line=200'>201</a>\u001b[0m \u001b[39m    Gives a new shape to an array without changing its data.\u001b[39;00m\n\u001b[0;32m    <a href='file:///c%3A/Users/Alessandro/miniconda3/envs/new/lib/site-packages/numpy/core/fromnumeric.py?line=201'>202</a>\u001b[0m \n\u001b[1;32m   (...)\u001b[0m\n\u001b[0;32m    <a href='file:///c%3A/Users/Alessandro/miniconda3/envs/new/lib/site-packages/numpy/core/fromnumeric.py?line=295'>296</a>\u001b[0m \u001b[39m           [5, 6]])\u001b[39;00m\n\u001b[0;32m    <a href='file:///c%3A/Users/Alessandro/miniconda3/envs/new/lib/site-packages/numpy/core/fromnumeric.py?line=296'>297</a>\u001b[0m \u001b[39m    \"\"\"\u001b[39;00m\n\u001b[1;32m--> <a href='file:///c%3A/Users/Alessandro/miniconda3/envs/new/lib/site-packages/numpy/core/fromnumeric.py?line=297'>298</a>\u001b[0m     \u001b[39mreturn\u001b[39;00m _wrapfunc(a, \u001b[39m'\u001b[39;49m\u001b[39mreshape\u001b[39;49m\u001b[39m'\u001b[39;49m, newshape, order\u001b[39m=\u001b[39;49morder)\n",
      "File \u001b[1;32m~\\miniconda3\\envs\\new\\lib\\site-packages\\numpy\\core\\fromnumeric.py:54\u001b[0m, in \u001b[0;36m_wrapfunc\u001b[1;34m(obj, method, *args, **kwds)\u001b[0m\n\u001b[0;32m     <a href='file:///c%3A/Users/Alessandro/miniconda3/envs/new/lib/site-packages/numpy/core/fromnumeric.py?line=51'>52</a>\u001b[0m bound \u001b[39m=\u001b[39m \u001b[39mgetattr\u001b[39m(obj, method, \u001b[39mNone\u001b[39;00m)\n\u001b[0;32m     <a href='file:///c%3A/Users/Alessandro/miniconda3/envs/new/lib/site-packages/numpy/core/fromnumeric.py?line=52'>53</a>\u001b[0m \u001b[39mif\u001b[39;00m bound \u001b[39mis\u001b[39;00m \u001b[39mNone\u001b[39;00m:\n\u001b[1;32m---> <a href='file:///c%3A/Users/Alessandro/miniconda3/envs/new/lib/site-packages/numpy/core/fromnumeric.py?line=53'>54</a>\u001b[0m     \u001b[39mreturn\u001b[39;00m _wrapit(obj, method, \u001b[39m*\u001b[39margs, \u001b[39m*\u001b[39m\u001b[39m*\u001b[39mkwds)\n\u001b[0;32m     <a href='file:///c%3A/Users/Alessandro/miniconda3/envs/new/lib/site-packages/numpy/core/fromnumeric.py?line=55'>56</a>\u001b[0m \u001b[39mtry\u001b[39;00m:\n\u001b[0;32m     <a href='file:///c%3A/Users/Alessandro/miniconda3/envs/new/lib/site-packages/numpy/core/fromnumeric.py?line=56'>57</a>\u001b[0m     \u001b[39mreturn\u001b[39;00m bound(\u001b[39m*\u001b[39margs, \u001b[39m*\u001b[39m\u001b[39m*\u001b[39mkwds)\n",
      "File \u001b[1;32m~\\miniconda3\\envs\\new\\lib\\site-packages\\numpy\\core\\fromnumeric.py:43\u001b[0m, in \u001b[0;36m_wrapit\u001b[1;34m(obj, method, *args, **kwds)\u001b[0m\n\u001b[0;32m     <a href='file:///c%3A/Users/Alessandro/miniconda3/envs/new/lib/site-packages/numpy/core/fromnumeric.py?line=40'>41</a>\u001b[0m \u001b[39mexcept\u001b[39;00m \u001b[39mAttributeError\u001b[39;00m:\n\u001b[0;32m     <a href='file:///c%3A/Users/Alessandro/miniconda3/envs/new/lib/site-packages/numpy/core/fromnumeric.py?line=41'>42</a>\u001b[0m     wrap \u001b[39m=\u001b[39m \u001b[39mNone\u001b[39;00m\n\u001b[1;32m---> <a href='file:///c%3A/Users/Alessandro/miniconda3/envs/new/lib/site-packages/numpy/core/fromnumeric.py?line=42'>43</a>\u001b[0m result \u001b[39m=\u001b[39m \u001b[39mgetattr\u001b[39m(asarray(obj), method)(\u001b[39m*\u001b[39margs, \u001b[39m*\u001b[39m\u001b[39m*\u001b[39mkwds)\n\u001b[0;32m     <a href='file:///c%3A/Users/Alessandro/miniconda3/envs/new/lib/site-packages/numpy/core/fromnumeric.py?line=43'>44</a>\u001b[0m \u001b[39mif\u001b[39;00m wrap:\n\u001b[0;32m     <a href='file:///c%3A/Users/Alessandro/miniconda3/envs/new/lib/site-packages/numpy/core/fromnumeric.py?line=44'>45</a>\u001b[0m     \u001b[39mif\u001b[39;00m \u001b[39mnot\u001b[39;00m \u001b[39misinstance\u001b[39m(result, mu\u001b[39m.\u001b[39mndarray):\n",
      "\u001b[1;31mValueError\u001b[0m: cannot reshape array of size 0 into shape (1691,2484,3)"
     ]
    }
   ],
   "source": [
    "immy = Image.open(\"frog.jpg\")\n",
    "imageClustered = ClusterImage(immy)\n",
    "\n",
    "immy.save(\"saved.png\")\n",
    "print (imageClustered.image_array)\n",
    "\n",
    "imageClustered.get_clustered_image()\n",
    "imageClustered.cluster_image_obj.save(\"savedCluster.png\")"
   ]
  },
  {
   "cell_type": "code",
   "execution_count": null,
   "metadata": {},
   "outputs": [],
   "source": []
  }
 ],
 "metadata": {
  "interpreter": {
   "hash": "1364dec09ed300605e49b13387f2a32c9940d13c4b9b585018cdf4aa9d7e6ba9"
  },
  "kernelspec": {
   "display_name": "Python 3.10.0 ('new')",
   "language": "python",
   "name": "python3"
  },
  "language_info": {
   "codemirror_mode": {
    "name": "ipython",
    "version": 3
   },
   "file_extension": ".py",
   "mimetype": "text/x-python",
   "name": "python",
   "nbconvert_exporter": "python",
   "pygments_lexer": "ipython3",
   "version": "3.10.0"
  },
  "orig_nbformat": 4
 },
 "nbformat": 4,
 "nbformat_minor": 2
}
